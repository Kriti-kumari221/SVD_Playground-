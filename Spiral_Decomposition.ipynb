{
 "cells": [
  {
   "cell_type": "code",
   "execution_count": 41,
   "id": "cde77e51-c61e-46f3-b0ad-26e345df4b56",
   "metadata": {},
   "outputs": [
    {
     "name": "stdin",
     "output_type": "stream",
     "text": [
      "Enter the size of the square matrix (n):  2 \n"
     ]
    },
    {
     "name": "stdout",
     "output_type": "stream",
     "text": [
      "Enter the 2*2 matrix row by row (Space Aeparated): \n"
     ]
    },
    {
     "name": "stdin",
     "output_type": "stream",
     "text": [
      "Row 1:  2 1\n",
      "Row 2:  1 2\n"
     ]
    },
    {
     "name": "stdout",
     "output_type": "stream",
     "text": [
      "[[2.0, 1.0], [1.0, 2.0]]\n"
     ]
    }
   ],
   "source": [
    "import numpy as np\n",
    "n=int(input(\"Enter the size of the square matrix (n): \"))\n",
    "print(f\"Enter the {n}*{n} matrix row by row (Space Aeparated): \")\n",
    "A=[]\n",
    "for i in range(n):\n",
    "    row=list(map(float, input(f\"Row {i+1}: \").split()))\n",
    "    A.append(row)\n",
    "print(A)"
   ]
  },
  {
   "cell_type": "code",
   "execution_count": 4,
   "id": "0b32f6de-367b-457f-91db-60bade110e0d",
   "metadata": {},
   "outputs": [],
   "source": [
    "# split()\n",
    "# Splits the input string into a list of substrings based on spaces.\n",
    "# \"1 2 3\".split() → [\"1\", \"2\", \"3\"]\n",
    "# map(float, [\"1\", \"2\", \"3\"])\n",
    "# Applies the float() function to each element of the list.\n",
    "# \"1\" → 1.0, \"2\" → 2.0, \"3\" → 3.0\n",
    "# Now we get a map object containing [1.0, 2.0, 3.0].\n",
    "# list(...)\n",
    "# Converts the map object into a list.\n",
    "# Final result: [1.0, 2.0, 3.0]"
   ]
  },
  {
   "cell_type": "code",
   "execution_count": 42,
   "id": "453443f0-f2b0-448c-bc85-489c123aa6fb",
   "metadata": {},
   "outputs": [
    {
     "name": "stdout",
     "output_type": "stream",
     "text": [
      "[[2. 1.]\n",
      " [1. 2.]]\n"
     ]
    }
   ],
   "source": [
    "A=np.array(A)\n",
    "print(A)"
   ]
  },
  {
   "cell_type": "code",
   "execution_count": 43,
   "id": "6db07f3e-0d8a-42a9-aab4-0c664dd33962",
   "metadata": {},
   "outputs": [
    {
     "name": "stdout",
     "output_type": "stream",
     "text": [
      "[3. 1.]\n"
     ]
    }
   ],
   "source": [
    "eigenvalues, eignvectors=np.linalg.eig(A)\n",
    "print(eigenvalues)"
   ]
  },
  {
   "cell_type": "code",
   "execution_count": 44,
   "id": "81085bf4-9c1b-4988-8678-cf287c09f046",
   "metadata": {},
   "outputs": [
    {
     "name": "stdout",
     "output_type": "stream",
     "text": [
      "[[ 0.70710678 -0.70710678]\n",
      " [ 0.70710678  0.70710678]]\n"
     ]
    }
   ],
   "source": [
    "print(eignvectors)"
   ]
  },
  {
   "cell_type": "code",
   "execution_count": 45,
   "id": "51191f66-c459-4594-ac56-a903722274a4",
   "metadata": {},
   "outputs": [
    {
     "name": "stdout",
     "output_type": "stream",
     "text": [
      "[[3. 0.]\n",
      " [0. 1.]]\n"
     ]
    }
   ],
   "source": [
    "Lambda=np.diag(eigenvalues)\n",
    "print(Lambda)"
   ]
  },
  {
   "cell_type": "code",
   "execution_count": 46,
   "id": "81823c86-9bd2-48e9-b716-e77f1a45bc77",
   "metadata": {},
   "outputs": [
    {
     "name": "stdout",
     "output_type": "stream",
     "text": [
      "[[-0.76231552 -0.51853163]\n",
      " [ 0.64720557 -0.85505845]]\n"
     ]
    }
   ],
   "source": [
    "Q=eigenvectors\n",
    "print(Q)"
   ]
  },
  {
   "cell_type": "code",
   "execution_count": 47,
   "id": "f20590b1-ab45-49c2-9dd7-b03d60659589",
   "metadata": {},
   "outputs": [
    {
     "name": "stdout",
     "output_type": "stream",
     "text": [
      "[[-0.76231552  0.64720557]\n",
      " [-0.51853163 -0.85505845]]\n"
     ]
    }
   ],
   "source": [
    "Q_Lambda=Q.T\n",
    "print(Q_Lambda)"
   ]
  },
  {
   "cell_type": "code",
   "execution_count": 48,
   "id": "815010fe-ab5a-4832-9979-378a4bc410bc",
   "metadata": {},
   "outputs": [],
   "source": [
    "A_reconstructed=Q@Lambda@Q_Lambda"
   ]
  },
  {
   "cell_type": "code",
   "execution_count": 49,
   "id": "493a6d87-4a20-4497-bda7-fbb1d4fc2b6d",
   "metadata": {},
   "outputs": [
    {
     "name": "stdout",
     "output_type": "stream",
     "text": [
      "[[ 2.0122499 -1.0367497]\n",
      " [-1.0367497  1.9877501]]\n"
     ]
    }
   ],
   "source": [
    "print(A_reconstructed)"
   ]
  },
  {
   "cell_type": "code",
   "execution_count": null,
   "id": "d60afc33-907f-4253-94c4-dfabe1da7701",
   "metadata": {},
   "outputs": [],
   "source": []
  }
 ],
 "metadata": {
  "kernelspec": {
   "display_name": "Python 3 (ipykernel)",
   "language": "python",
   "name": "python3"
  },
  "language_info": {
   "codemirror_mode": {
    "name": "ipython",
    "version": 3
   },
   "file_extension": ".py",
   "mimetype": "text/x-python",
   "name": "python",
   "nbconvert_exporter": "python",
   "pygments_lexer": "ipython3",
   "version": "3.13.5"
  }
 },
 "nbformat": 4,
 "nbformat_minor": 5
}
